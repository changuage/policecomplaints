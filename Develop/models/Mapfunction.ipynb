{
 "cells": [
  {
   "cell_type": "code",
   "execution_count": 1,
   "metadata": {
    "collapsed": true
   },
   "outputs": [],
   "source": [
    "import requests\n",
    "import json\n",
    "import pandas as pd\n",
    "from pandas.io.json import json_normalize\n",
    "import matplotlib.pyplot as plt\n",
    "from sodapy import Socrata\n",
    "from geopandas import gpd\n",
    "import pysal as ps\n",
    "import numpy as np\n",
    "import folium"
   ]
  },
  {
   "cell_type": "code",
   "execution_count": 4,
   "metadata": {},
   "outputs": [],
   "source": [
    "client = Socrata(\"data.cityofchicago.org\", 'EjrjYzG6YAkBx7bPBzME8jD4c')\n",
    "results = client.get(\"w3hi-cfa4\",limit = 500000)\n",
    "\n",
    "complaints = pd.DataFrame.from_records(results)\n",
    "\n",
    "split = complaints['beat'].str.split('|').apply(pd.Series, 1).stack()\n",
    "split.index = split.index.droplevel(-1)\n",
    "split.name = 'beat'\n",
    "del complaints['beat']\n",
    "split = split.apply(lambda x: x.strip())\n",
    "complaints = complaints.join(split, how =\"right\")\n",
    "complaints['complaint_date'] =  pd.to_datetime(complaints['complaint_date'], format='%Y%m%dT%H:%M:%S.%f')\n",
    "complaints['complaint_year'] = complaints.complaint_date.dt.year\n",
    "\n",
    "beats_gpd = gpd.read_file('policebeats.shp')\n",
    "beats_gpd['beat_num'] = pd.to_numeric(beats_gpd['beat_num'])"
   ]
  },
  {
   "cell_type": "code",
   "execution_count": 5,
   "metadata": {
    "collapsed": true
   },
   "outputs": [],
   "source": [
    "type = complaints[['beat','current_category']].dropna()\n",
    "type_long = pd.get_dummies(type, columns=['current_category'])\n",
    "type_long = type_long.rename(columns={'current_category_Bias':'bias',\n",
    "                         'current_category_Civil Suits':'civilsuits',\n",
    "                         'current_category_Coercion':'coercion',\n",
    "                         'current_category_Death or Injury In Custody':'deathinjuryincustody',\n",
    "                         'current_category_Domestic Violence':'domesticviolence',\n",
    "                         'current_category_Excessive Force':'excessforce',\n",
    "                         'current_category_Firearm Discharge - Hits':'firearmhit',\n",
    "                         'current_category_Firearm Discharge - No Hits':'firearmnohit',\n",
    "                         'current_category_Firearm Discharge at Animal':'firearmanimal',\n",
    "                         'current_category_Legal Violation':'legalviol',\n",
    "                         'current_category_Miscellaneous':'misc',\n",
    "                         'current_category_Motor Vehicle Related Death':'motordeath',\n",
    "                         'current_category_OC Discharge':'ocdischarge',\n",
    "                         'current_category_Operational Violation':'operationviolation',\n",
    "                         'current_category_Search or Seizure':'searchseizure',\n",
    "                         'current_category_Taser Discharge':'taserdischarge',\n",
    "                         'current_category_Taser Notification':'tasernotif',\n",
    "                         'current_category_Unlawful Denial of Counsel':'denialcounsel',\n",
    "                         'current_category_Unnecessary Display of Weapon':'unnecessarydispweapon',\n",
    "                         'current_category_Verbal Abuse':'verbalabuse'})\n",
    "type_long = type_long.groupby(['beat']).agg({'bias':[sum],'civilsuits':[sum],\n",
    "                                'coercion':[sum],'deathinjuryincustody':[sum],\n",
    "                                'domesticviolence':[sum],'excessforce':[sum],\n",
    "                               'firearmhit':[sum],'firearmnohit':[sum],\n",
    "                                'firearmanimal':[sum],'legalviol':[sum],\n",
    "                                'misc':[sum],'motordeath':[sum],\n",
    "                               'ocdischarge':[sum],'operationviolation':[sum],\n",
    "                                'searchseizure':[sum],'taserdischarge':[sum],\n",
    "                                'tasernotif':[sum],'denialcounsel':[sum],\n",
    "                               'unnecessarydispweapon':[sum],'verbalabuse':[sum]})\n",
    "type_long.columns = type_long.columns.droplevel(1)\n",
    "type_long = type_long.reset_index()\n",
    "type_long['beat'] = pd.to_numeric(type_long['beat'])"
   ]
  },
  {
   "cell_type": "code",
   "execution_count": 8,
   "metadata": {
    "collapsed": true
   },
   "outputs": [],
   "source": [
    "race = complaints[['beat','race_of_complainant']].dropna()\n",
    "race_long = pd.get_dummies(race, columns = ['race_of_complainant']) \n",
    "race_long.rename(columns={'race_of_complainant_African American / Black':'Black', \n",
    "                          'race_of_complainant_American Indian or Alaskan Native':'AmerIndianAlaskan',\n",
    "                         'race_of_complainant_Asian or Pacific Islander':'Apia',\n",
    "                          'race_of_complainant_Hispanic':'Hispanic',\n",
    "                          'race_of_complainant_Unknown':'Unknown',\n",
    "                          'race_of_complainant_White':'White'\n",
    "                         }, inplace=True)\n",
    "race_long =race_long.groupby(['beat']).agg({'Black':[sum],'AmerIndianAlaskan':[sum],\n",
    "                                'Apia':[sum],'Hispanic':[sum],\n",
    "                                'Unknown':[sum],'White':[sum]})\n",
    "race_long.columns = race_long.columns.droplevel(1)\n",
    "race_long = race_long.reset_index()\n",
    "race_long['beat'] = pd.to_numeric(race_long['beat'])"
   ]
  },
  {
   "cell_type": "code",
   "execution_count": 9,
   "metadata": {},
   "outputs": [],
   "source": [
    "data = beats_gpd.merge(type_long, right_on='beat',left_on='beat_num', how ='left')\n",
    "data = data.merge(race_long,right_on='beat',left_on='beat_num', how ='left')\n",
    "data = data.fillna(0)\n",
    "\n",
    "W = ps.weights.Queen.from_dataframe(data)\n",
    "W.transform = 'r'\n",
    "moran = ps.Moran_Local(data.Black.values, W, permutations=9999)\n"
   ]
  },
  {
   "cell_type": "code",
   "execution_count": 12,
   "metadata": {},
   "outputs": [],
   "source": [
    "sig = moran.p_sim < 0.05\n",
    "hotspots = moran.q==1 * sig\n",
    "coldspots = moran.q==3 * sig\n",
    "hotcold = hotspots*1 + coldspots*2\n",
    "\n",
    "hc_df = pd.DataFrame(hotcold)\n",
    "\n",
    "mapdata = beats_gpd.join(hc_df)\n",
    "mapdata.rename(columns={0: 'type'}, inplace=True)\n",
    "\n",
    "style = pd.DataFrame({'type': [0,1,2], 'style': [\n",
    "    {'fillColor': '#e3dfd6', 'weight': .25, 'color': 'black'},\n",
    "    {'fillColor': '#dd3232', 'fillOpacity' : .85, 'weight': .25, 'color': 'black'},\n",
    "    {'fillColor': '#a2d0cf', 'fillOpacity' : .85, 'weight': .25, 'color': 'black'},\n",
    "    ]})\n",
    "mapdata = mapdata.merge(style)\n",
    "\n",
    "cook_coords = [41.857602, -87.731696]\n",
    "width, height = 400, 500\n",
    "\n",
    "my_map = folium.Map(location = cook_coords, zoom_start = 10, \n",
    "                    tiles = 'cartodbpositron', width=width, height=height)\n",
    "\n",
    "folium.GeoJson(mapdata.to_crs({'init': 'epsg:4326'}).to_json()).add_to(my_map)\n",
    "\n",
    "my_map.save('map.html')"
   ]
  }
 ],
 "metadata": {
  "kernelspec": {
   "display_name": "Python 3",
   "language": "python",
   "name": "python3"
  },
  "language_info": {
   "codemirror_mode": {
    "name": "ipython",
    "version": 3
   },
   "file_extension": ".py",
   "mimetype": "text/x-python",
   "name": "python",
   "nbconvert_exporter": "python",
   "pygments_lexer": "ipython3",
   "version": "3.6.1"
  }
 },
 "nbformat": 4,
 "nbformat_minor": 2
}
