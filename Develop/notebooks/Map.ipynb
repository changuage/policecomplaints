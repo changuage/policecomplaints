{
 "cells": [
  {
   "cell_type": "code",
   "execution_count": 18,
   "metadata": {
    "collapsed": true
   },
   "outputs": [],
   "source": [
    "import requests\n",
    "import json\n",
    "import pandas as pd\n",
    "from pandas.io.json import json_normalize\n",
    "import matplotlib.pyplot as plt\n",
    "from sodapy import Socrata\n",
    "from geopandas import gpd"
   ]
  },
  {
   "cell_type": "code",
   "execution_count": 2,
   "metadata": {
    "collapsed": true
   },
   "outputs": [],
   "source": [
    "client = Socrata(\"data.cityofchicago.org\", 'EjrjYzG6YAkBx7bPBzME8jD4c')\n",
    "results = client.get(\"w3hi-cfa4\",limit = 500000)\n",
    "\n",
    "complaints = pd.DataFrame.from_records(results)"
   ]
  },
  {
   "cell_type": "code",
   "execution_count": 41,
   "metadata": {
    "collapsed": true
   },
   "outputs": [],
   "source": [
    "split = complaints['beat'].str.split('|').apply(pd.Series, 1).stack()\n",
    "split.index = split.index.droplevel(-1)\n",
    "split.name = 'beat'\n",
    "del complaints['beat']\n",
    "split = split.apply(lambda x: x.strip())\n",
    "complaints = complaints.join(split, how =\"right\")\n",
    "complaints['complaint_date'] =  pd.to_datetime(complaints['complaint_date'], format='%Y%m%dT%H:%M:%S.%f')\n",
    "complaints['complaint_year'] = complaints.complaint_date.dt.year"
   ]
  },
  {
   "cell_type": "code",
   "execution_count": 38,
   "metadata": {},
   "outputs": [],
   "source": [
    "beats_gpd = gpd.read_file('policebeats.shp')"
   ]
  },
  {
   "cell_type": "code",
   "execution_count": 44,
   "metadata": {},
   "outputs": [
    {
     "data": {
      "text/plain": [
       "2010    4291\n",
       "2009    3937\n",
       "2011    3740\n",
       "2008    3443\n",
       "2012    3230\n",
       "2013    2424\n",
       "2014    2082\n",
       "2015    1629\n",
       "2016    1392\n",
       "2017    1251\n",
       "2007    1093\n",
       "2018     128\n",
       "Name: complaint_year, dtype: int64"
      ]
     },
     "execution_count": 44,
     "metadata": {},
     "output_type": "execute_result"
    }
   ],
   "source": [
    "complaints['complaint_year'].value_counts()"
   ]
  }
 ],
 "metadata": {
  "kernelspec": {
   "display_name": "Python 3",
   "language": "python",
   "name": "python3"
  },
  "language_info": {
   "codemirror_mode": {
    "name": "ipython",
    "version": 3
   },
   "file_extension": ".py",
   "mimetype": "text/x-python",
   "name": "python",
   "nbconvert_exporter": "python",
   "pygments_lexer": "ipython3",
   "version": "3.6.1"
  }
 },
 "nbformat": 4,
 "nbformat_minor": 2
}
